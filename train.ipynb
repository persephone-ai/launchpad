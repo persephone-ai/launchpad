{
 "cells": [
  {
   "cell_type": "code",
   "execution_count": null,
   "metadata": {},
   "outputs": [],
   "source": [
    "import nbformat\n",
    "from ai import Chat, FineTuner\n",
    "from tqdm import tqdm\n",
    "import json\n",
    "\n",
    "model = 'gpt-4-1106-preview'\n",
    "\n",
    "notebook = nbformat.read('examples.ipynb', as_version=4)\n",
    "\n",
    "# Create an instance of the FineTuner class\n",
    "fine_tuner = FineTuner()"
   ]
  },
  {
   "cell_type": "code",
   "execution_count": null,
   "metadata": {},
   "outputs": [],
   "source": [
    "# Define the path to your JSONL file\n",
    "jsonl_file_path = 'example-finetune.jsonl'\n",
    "\n",
    "# Upload the file and start the fine-tuning process\n",
    "fine_tuning_job = fine_tuner.finetune_model(\n",
    "    file_path=jsonl_file_path,\n",
    "    file_validation=True,\n",
    "    batch_size=None,\n",
    "    learning_rate_multiplier=None,\n",
    "    model_name='gpt-3.5-turbo',\n",
    "    suffix='example-finetune',\n",
    "    n_epochs=10,  # for example\n",
    ")\n",
    "\n",
    "# Print the fine-tuning job details\n",
    "print(fine_tuning_job)"
   ]
  },
  {
   "cell_type": "code",
   "execution_count": null,
   "metadata": {},
   "outputs": [],
   "source": []
  }
 ],
 "metadata": {
  "kernelspec": {
   "display_name": "ainventory",
   "language": "python",
   "name": "python3"
  },
  "language_info": {
   "codemirror_mode": {
    "name": "ipython",
    "version": 3
   },
   "file_extension": ".py",
   "mimetype": "text/x-python",
   "name": "python",
   "nbconvert_exporter": "python",
   "pygments_lexer": "ipython3",
   "version": "3.11.5"
  }
 },
 "nbformat": 4,
 "nbformat_minor": 2
}
