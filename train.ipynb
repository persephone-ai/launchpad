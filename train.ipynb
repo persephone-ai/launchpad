{
 "cells": [
  {
   "cell_type": "code",
   "execution_count": 2,
   "metadata": {},
   "outputs": [],
   "source": [
    "import nbformat\n",
    "from ai import Chat, FineTuner\n",
    "from tqdm import tqdm\n",
    "import json\n",
    "\n",
    "model = 'gpt-4-1106-preview'\n",
    "\n",
    "notebook = nbformat.read('examples.ipynb', as_version=4)\n",
    "\n",
    "# Create an instance of the FineTuner class\n",
    "fine_tuner = FineTuner()"
   ]
  },
  {
   "cell_type": "code",
   "execution_count": null,
   "metadata": {},
   "outputs": [],
   "source": [
    "import nbformat\n",
    "from tqdm import tqdm\n",
    "import json\n",
    "\n",
    "notebook = nbformat.read('examples.ipynb', as_version=4)\n",
    "\n",
    "# Initialize empty lists\n",
    "markdown_cells = []\n",
    "code_cells = []\n",
    "\n",
    "# Iterate over all cells\n",
    "for cell in notebook.cells:\n",
    "    if cell.cell_type == 'markdown':\n",
    "        markdown_cells.append(cell)\n",
    "    elif cell.cell_type == 'code':\n",
    "        code_cells.append(cell)\n",
    "\n",
    "# Ensure we have equal number of markdown and code cells\n",
    "if len(markdown_cells) != len(code_cells):\n",
    "    print(\"Warning: Number of markdown cells and code cells are not equal.\")\n",
    "\n",
    "fine_tuning_data = []\n",
    "for markdown_cell, code_cell in tqdm(zip(markdown_cells, code_cells)):\n",
    "    message_group = []\n",
    "    message_group.append({\"role\": \"system\", \"content\": \"Hackathon Assistant\"})\n",
    "    message_group.append({\"role\": \"user\", \"content\": markdown_cell.source})  # User provides the markdown\n",
    "    message_group.append({\"role\": \"assistant\", \"content\": code_cell.source})  # Assistant provides the code\n",
    "    fine_tuning_data.append({\"messages\": message_group})\n",
    "\n",
    "with open(\"example-finetune.jsonl\", \"w\") as f:\n",
    "    for entry in fine_tuning_data:\n",
    "        json.dump(entry, f)\n",
    "        f.write('\\n')"
   ]
  },
  {
   "cell_type": "code",
   "execution_count": null,
   "metadata": {},
   "outputs": [],
   "source": [
    "# Define the path to your JSONL file\n",
    "jsonl_file_path = 'example-finetune.jsonl'\n",
    "\n",
    "# Upload the file and start the fine-tuning process\n",
    "fine_tuning_job = fine_tuner.finetune_model(\n",
    "    file_path=jsonl_file_path,\n",
    "    file_validation=True,\n",
    "    batch_size=None,\n",
    "    learning_rate_multiplier=None,\n",
    "    model_name='gpt-3.5-turbo',\n",
    "    suffix='example-finetune',\n",
    "    n_epochs=10,  # for example\n",
    ")\n",
    "\n",
    "# Print the fine-tuning job details\n",
    "print(fine_tuning_job)"
   ]
  },
  {
   "cell_type": "code",
   "execution_count": null,
   "metadata": {},
   "outputs": [],
   "source": []
  }
 ],
 "metadata": {
  "kernelspec": {
   "display_name": "ainventory",
   "language": "python",
   "name": "python3"
  },
  "language_info": {
   "codemirror_mode": {
    "name": "ipython",
    "version": 3
   },
   "file_extension": ".py",
   "mimetype": "text/x-python",
   "name": "python",
   "nbconvert_exporter": "python",
   "pygments_lexer": "ipython3",
   "version": "3.11.5"
  }
 },
 "nbformat": 4,
 "nbformat_minor": 2
}
